{
 "cells": [
  {
   "cell_type": "markdown",
   "metadata": {},
   "source": [
    "### Brief description of the algorithm:\n",
    "This notebok is an implementation of an algorithm called \"Hierarchical clustering\" for detecting compact communities  based on a another graph traversal algorithm \"LexDFS\".In fact the \"Hierarchical clustering\"  algorithm applies \"LexDFS\" first on the graph for a  certain number l of iterations(starting by a differnt node of the graph in each iteretion).bellow is a breif description of LexDFS .\n",
    "* LexDFS:--input:graph,starting node\n",
    "       --output:affect  a number node.visited to each node (it corresponds to the iteretation in which the node has             been visited)\n",
    "* The application of LexDFS gives a \"rank\"  to each node (node.visited) based on which we can affect scores  to the  edges of the graph. Hierarchical clustering then  ordred the set of edges decreaingly .while set isn't empty the algorithm takes the edge with the smallest score and merge the clusters containing the two nodes composing this edge.\n",
    "* NB: we don't have any condition on the score to take into consideration while clustering the nodes ,consequently the algorithm put all the nodes that have a commun edge in the same cluster .we then end up by a set of cluster such that each cluster is composed by a connexe component of the graph.\n",
    "* We tested the algorithm on lage datasets ,but for the demonstration bellow we use a graph with two connexe comppnenets to make it more visible."
   ]
  },
  {
   "cell_type": "markdown",
   "metadata": {},
   "source": [
    "###### We define a class called node each node is characterized by the following attributes\n",
    "* Node's id (`string`)\n",
    "* Node's visited value (`int`)\n",
    "* Node's lex value (`list that takes the two last elements of lex value`)\n",
    "* Node's neighbors (`list of nodes`)\n",
    "* A method that fills the neighbors' list"
   ]
  },
  {
   "cell_type": "code",
   "execution_count": 2,
   "metadata": {
    "collapsed": true
   },
   "outputs": [],
   "source": [
    "class node:\n",
    "    def __init__(self,id):\n",
    "        self.id = id\n",
    "        self.lex = [0,0]\n",
    "        self.visited = 0\n",
    "        self.neighbors = []\n",
    "    def add_neighbor(self,v):\n",
    "        if v not in self.neighbors :\n",
    "            self.neighbors.append(v)"
   ]
  },
  {
   "cell_type": "markdown",
   "metadata": {},
   "source": [
    "###### LexDFS algorithm : given a graph and a starting point, the algorithm computes the lexicographical DFS & returns a list of the visited nodes"
   ]
  },
  {
   "cell_type": "code",
   "execution_count": 9,
   "metadata": {
    "collapsed": true
   },
   "outputs": [],
   "source": [
    "def Lexdfs(graph,start):\n",
    "    stack = []\n",
    "    stack.append(start)\n",
    "    i = 1\n",
    "    listvisited =[]\n",
    "    while (stack != []):\n",
    "        node = stack.pop()\n",
    "        node.visited = i\n",
    "        print('current node :',node.id,\" visited :\",node.visited,\" lex :\",node.lex)\n",
    "        listvisited.append(node.id)\n",
    "        array = []\n",
    "        for v in node.neighbors:\n",
    "            if v.visited == 0:\n",
    "                #print('non-visited neihbors : ',v.id)\n",
    "                if(v in stack):\n",
    "                    stack.remove(v)\n",
    "                x = v.lex[0]\n",
    "                v.lex[1] = x\n",
    "                v.lex[0] = i\n",
    "                array.append(v)\n",
    "        sortedArray = sorted(array, key=lambda v: sum(v.lex))\n",
    "        for j in range(len(sortedArray)):\n",
    "            stack.append(sortedArray[j])\n",
    "        i = i+1\n",
    "    print(\"List of visited nodes :\",listvisited)"
   ]
  },
  {
   "cell_type": "markdown",
   "metadata": {},
   "source": [
    "##### Reading graph from a text file(note that the graph is composed by two connected components)"
   ]
  },
  {
   "cell_type": "code",
   "execution_count": 10,
   "metadata": {},
   "outputs": [
    {
     "name": "stdout",
     "output_type": "stream",
     "text": [
      "Graph :  {'1': ['2', '3'], '2': ['1', '3', '5', '4'], '3': ['1', '2', '5', '6'], '4': ['2', '5'], '5': ['4', '2', '3', '6'], '6': ['3', '5'], '7': ['8', '9'], '8': ['9'], '9': ['7']}\n"
     ]
    }
   ],
   "source": [
    "import operator\n",
    "import random\n",
    "\n",
    "f = open(\"C:/Users/Emily/Desktop/DNA courses/Algo/lexdfs_graph_test.txt\", \"r\").read().splitlines()\n",
    "graph = {}\n",
    "outlinks=[]\n",
    "for x in f:\n",
    "    outlinks = x[2:].split(\" \")\n",
    "    graph.update({x[0]:outlinks})\n",
    "print(\"Graph : \",graph)"
   ]
  },
  {
   "cell_type": "markdown",
   "metadata": {},
   "source": [
    "###### Generating graph with node object & filling the neighbors list"
   ]
  },
  {
   "cell_type": "code",
   "execution_count": 11,
   "metadata": {
    "collapsed": true
   },
   "outputs": [],
   "source": [
    "graphlist = [node(v) for v in graph.keys()]\n",
    "# def set_node_neighbors(graph)\n",
    "for mynode in graphlist:\n",
    "    for i in graph:\n",
    "        l = []\n",
    "        if mynode.id == i:\n",
    "            l = graph[i]\n",
    "        for node in graphlist:\n",
    "            if node.id == i:\n",
    "                for elt in l:\n",
    "                    for k in graphlist:\n",
    "                        if k.id == elt:\n",
    "                            node.add_neighbor(k)\n",
    "#print (graphlist)"
   ]
  },
  {
   "cell_type": "markdown",
   "metadata": {},
   "source": [
    "###### `LexDFS example :` run over graphlist and the node '1' and node '7' since we have two connected components."
   ]
  },
  {
   "cell_type": "code",
   "execution_count": 12,
   "metadata": {},
   "outputs": [
    {
     "name": "stdout",
     "output_type": "stream",
     "text": [
      "current node : 1  visited : 1  lex : [0, 0]\n",
      "current node : 3  visited : 2  lex : [1, 0]\n",
      "current node : 2  visited : 3  lex : [2, 1]\n",
      "current node : 5  visited : 4  lex : [3, 2]\n",
      "current node : 4  visited : 5  lex : [4, 3]\n",
      "current node : 6  visited : 6  lex : [4, 2]\n",
      "List of visited nodes : ['1', '3', '2', '5', '4', '6']\n"
     ]
    }
   ],
   "source": [
    "Lexdfs(graphlist,graphlist[0])"
   ]
  },
  {
   "cell_type": "code",
   "execution_count": 13,
   "metadata": {},
   "outputs": [
    {
     "name": "stdout",
     "output_type": "stream",
     "text": [
      "current node : 7  visited : 1  lex : [0, 0]\n",
      "current node : 9  visited : 2  lex : [1, 0]\n",
      "current node : 8  visited : 3  lex : [1, 0]\n",
      "List of visited nodes : ['7', '9', '8']\n"
     ]
    }
   ],
   "source": [
    "Lexdfs(graphlist,graphlist[6])"
   ]
  },
  {
   "cell_type": "markdown",
   "metadata": {},
   "source": [
    "##### This method gives the set of edges (u,v) of a given graph and initialize the score of all edges to 0"
   ]
  },
  {
   "cell_type": "code",
   "execution_count": 20,
   "metadata": {
    "collapsed": true
   },
   "outputs": [],
   "source": [
    "def edges_set(graph):\n",
    "    edges ={}\n",
    "    for i in graph:\n",
    "        for j in i.neighbors:\n",
    "            edges.update({(i,j):0})\n",
    "            if (j,i) in edges.keys():\n",
    "                edges.pop((j,i))\n",
    "                #print(\"(\",i.id,\",\",j.id,\")\")\n",
    "    return(edges)"
   ]
  },
  {
   "cell_type": "markdown",
   "metadata": {},
   "source": [
    "#####"
   ]
  },
  {
   "cell_type": "code",
   "execution_count": 1,
   "metadata": {},
   "outputs": [
    {
     "ename": "NameError",
     "evalue": "name 'edges_set' is not defined",
     "output_type": "error",
     "traceback": [
      "\u001b[0;31m---------------------------------------------------------------------------\u001b[0m",
      "\u001b[0;31mNameError\u001b[0m                                 Traceback (most recent call last)",
      "\u001b[0;32m<ipython-input-1-b893f53d7b38>\u001b[0m in \u001b[0;36m<module>\u001b[0;34m()\u001b[0m\n\u001b[0;32m----> 1\u001b[0;31m \u001b[0medges\u001b[0m \u001b[0;34m=\u001b[0m \u001b[0medges_set\u001b[0m\u001b[0;34m(\u001b[0m\u001b[0mgraphlist\u001b[0m\u001b[0;34m)\u001b[0m\u001b[0;34m\u001b[0m\u001b[0m\n\u001b[0m\u001b[1;32m      2\u001b[0m \u001b[0;32mfor\u001b[0m \u001b[0mi\u001b[0m \u001b[0;32min\u001b[0m \u001b[0mrange\u001b[0m\u001b[0;34m(\u001b[0m\u001b[0;36m1\u001b[0m\u001b[0;34m,\u001b[0m \u001b[0;36m11\u001b[0m\u001b[0;34m)\u001b[0m\u001b[0;34m:\u001b[0m \u001b[0;31m#10 iteration\u001b[0m\u001b[0;34m\u001b[0m\u001b[0m\n\u001b[1;32m      3\u001b[0m    \u001b[0;31m######### Re-initialize values of the graph before every lexDFS#########\u001b[0m\u001b[0;34m\u001b[0m\u001b[0;34m\u001b[0m\u001b[0m\n\u001b[1;32m      4\u001b[0m     \u001b[0;32mfor\u001b[0m \u001b[0mnode\u001b[0m \u001b[0;32min\u001b[0m \u001b[0mgraphlist\u001b[0m\u001b[0;34m:\u001b[0m\u001b[0;34m\u001b[0m\u001b[0m\n\u001b[1;32m      5\u001b[0m         \u001b[0mnode\u001b[0m\u001b[0;34m.\u001b[0m\u001b[0mvisited\u001b[0m\u001b[0;34m=\u001b[0m\u001b[0;36m0\u001b[0m\u001b[0;34m\u001b[0m\u001b[0m\n",
      "\u001b[0;31mNameError\u001b[0m: name 'edges_set' is not defined"
     ]
    }
   ],
   "source": [
    "edges = edges_set(graphlist)\n",
    "for i in range(1, 11): #10 iteration\n",
    "   ######### Re-initialize values of the graph before every lexDFS#########\n",
    "    for node in graphlist:\n",
    "        node.visited=0\n",
    "        node.lex=[0,0]\n",
    "   #######################################################################    \n",
    "    start = graphlist[random.randrange(len(graphlist))] # takes a random node from the graph\n",
    "    print('Starting point :', start.id)\n",
    "    Lexdfs(graphlist, start)\n",
    "    print(\"***end iter lexDFS***\")\n",
    "    for key in edges:\n",
    "        s = 1 - abs((key[0].visited - key[1].visited) / len(edges))\n",
    "        edges[key] = (edges[key] * (i - 1) + s) / i\n",
    "\n",
    "\n",
    "#we sort the set of edges by score value\n",
    "ordered_edg_set = [ x[0]for x in sorted(edges.items(), key=operator.itemgetter(1))]\n",
    "\n",
    "#fill cluster by sub-clusters containing the singleton [node]\n",
    "cluster=[]\n",
    "for node in graphlist:\n",
    "    cluster.append([node])\n",
    "\n",
    "while len(ordered_edg_set)>1:\n",
    "    edg = ordered_edg_set .pop()\n",
    "    #print('edge:(',edg[0].id,\",\",edg[1].id,\")\")\n",
    "    V = cluster\n",
    "    y = []\n",
    "    for c in cluster:\n",
    "        if edg[0] in c:\n",
    "            if edg[1] not in c:\n",
    "                y=c\n",
    "                V.remove(c)\n",
    "    for c in cluster:\n",
    "         if edg[1] in c:\n",
    "                c.extend(y)\n",
    "#print('Final clusters :',V)\n",
    "print (\"The total number of clusters is :\",len(V))\n",
    "print('list of clusters : ', V)"
   ]
  },
  {
   "cell_type": "code",
   "execution_count": null,
   "metadata": {
    "collapsed": true
   },
   "outputs": [],
   "source": []
  }
 ],
 "metadata": {
  "kernelspec": {
   "display_name": "Python 3",
   "language": "python",
   "name": "python3"
  },
  "language_info": {
   "codemirror_mode": {
    "name": "ipython",
    "version": 3
   },
   "file_extension": ".py",
   "mimetype": "text/x-python",
   "name": "python",
   "nbconvert_exporter": "python",
   "pygments_lexer": "ipython3",
   "version": "3.6.3"
  }
 },
 "nbformat": 4,
 "nbformat_minor": 2
}
