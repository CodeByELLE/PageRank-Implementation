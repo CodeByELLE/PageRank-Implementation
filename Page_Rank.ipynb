{
 "cells": [
  {
   "cell_type": "markdown",
   "metadata": {},
   "source": [
    "# Page Rank"
   ]
  },
  {
   "cell_type": "markdown",
   "metadata": {},
   "source": [
    "<p> In this Notebook we implemented PageRank algorithm, based on Google formulation.\n",
    "    We followed exactly the details of the algorithm as explained in a Standford university's lecture :\n",
    "<a href=\"https://www.youtube.com/watch?v=bK934gcJMS4&list=PL_5KewuK1AMPHElEC7bi4iqI-D-IQOstJ\"> Lecture's URL"
   ]
  },
  
   ]
  },
  {
   "cell_type": "code",
   "execution_count": 5,
   "metadata": {},
   "outputs": [
    {
     "name": "stdout",
     "output_type": "stream",
     "text": [
      "> Out-links :  {'A': ['B', 'D'], 'B': ['D'], 'C': ['A', 'B'], 'D': ['A', 'B', 'C', 'E'], 'E': ['B']}\n",
      "\n",
      "> In-links  :  {'B': ['A', 'C', 'D', 'E'], 'D': ['A', 'B'], 'A': ['C', 'D'], 'C': ['D'], 'E': ['D']}\n",
      "\n",
      "> Initial rank : {'A': 0.2, 'B': 0.2, 'C': 0.2, 'D': 0.2, 'E': 0.2}\n",
      "\n",
      "> Iterations' number:  14\n",
      "\n",
      "> Convergence : {'A': 0.12852712183202844, 'B': 0.47314623530635014, 'C': 0.09017740286191217, 'D': 0.15286711079185553, 'E': 0.15528212920785378}\n"
     ]
    }
   ],
   "source": [
    "######Start page rank process#####\n",
    "f = open(\"C:/Users/Emily/Desktop/DNA courses/Algo/edges.txt\", \"r\").read().splitlines()\n",
    "r_old={}\n",
    "indegree = {}\n",
    "outdegree = {}\n",
    "beta = 0.85\n",
    "eps =0.001 #convergece limit\n",
    "r_prime_new = {}\n",
    "iter = 0\n",
    "for x in f:\n",
    "    r_old.update({x[0] : 1/len(f)})\n",
    "    outlinks = x[2:].split(\" \")\n",
    "    outdegree.update({x[0]:outlinks})\n",
    "print(\"> Out-links : \",outdegree)\n",
    "for k in outdegree:\n",
    "    for v in outdegree[k]:\n",
    "        if v in indegree.keys():\n",
    "            indegree.get(v).append(k)\n",
    "        else :\n",
    "            indegree.update({v : [k]} )\n",
    "print(\"\\n> In-links  : \",indegree)\n",
    "print (\"\\n> Initial rank :\",r_old)\n",
    "while True :\n",
    "    somme = 0\n",
    "    r_new={}\n",
    "    for j in r_old.keys():\n",
    "        r_prime_j = 0\n",
    "        if len(indegree.get(j)) != 0:\n",
    "            for i in (indegree.get(j)):\n",
    "                r_prime_j += beta *(r_old.get(i) / len(outdegree.get(j)))\n",
    "        r_prime_new.update({j:  r_prime_j})\n",
    "    s = sum(r_prime_new.values())\n",
    "\n",
    "    #add leaked\n",
    "    for j in r_old.keys():\n",
    "        r_new.update({j:(r_prime_new.get(j) + (1-s) / len(r_old.keys()))})\n",
    "        somme += abs(r_new.get(j) - r_old.get(j))\n",
    "    r_old = r_new\n",
    "    iter += 1\n",
    "    if somme<eps:\n",
    "        print(\"\\n> Iterations' number: \",iter-1)\n",
    "        print(\"\\n> Convergence :\", r_new)\n",
    "        break"
   ]
  }
 ],
 "metadata": {
  "kernelspec": {
   "display_name": "Python 3",
   "language": "python",
   "name": "python3"
  },
  "language_info": {
   "codemirror_mode": {
    "name": "ipython",
    "version": 3
   },
   "file_extension": ".py",
   "mimetype": "text/x-python",
   "name": "python",
   "nbconvert_exporter": "python",
   "pygments_lexer": "ipython3",
   "version": "3.7.0"
  }
 },
 "nbformat": 4,
 "nbformat_minor": 2
}
